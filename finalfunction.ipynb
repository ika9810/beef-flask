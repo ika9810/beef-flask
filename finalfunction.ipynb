{
 "cells": [
  {
   "cell_type": "code",
   "execution_count": 23,
   "id": "09d9f5ae-fcf6-4deb-9062-59ef65460517",
   "metadata": {},
   "outputs": [
    {
     "data": {
      "text/plain": [
       "[{'className': '1', 'probability': 0.0},\n",
       " {'className': '1+', 'probability': 0.8050855160600559},\n",
       " {'className': '1++', 'probability': 0.0},\n",
       " {'className': '2', 'probability': 0.1949144839399442},\n",
       " {'className': '3', 'probability': 0.0}]"
      ]
     },
     "execution_count": 23,
     "metadata": {},
     "output_type": "execute_result"
    }
   ],
   "source": [
    "from sklearn.decomposition import PCA\n",
    "\n",
    "import numpy as np\n",
    "import os\n",
    "from PIL import Image\n",
    "\n",
    "import joblib\n",
    "\n",
    "%matplotlib inline\n",
    "\n",
    "#이미지 입력\n",
    "#소고기 원본사진\n",
    "path = './testpicture/1/24.jpg'\n",
    "def evaluate_grade(path):\n",
    "    \n",
    "    image_pil = Image.open(path)\n",
    "    image = np.array(image_pil)\n",
    "\n",
    "    xaverage=image.shape[0]\n",
    "    yaverage=image.shape[1]\n",
    "    #한변의 길이의 절반\n",
    "    halfpicsize=150\n",
    "\n",
    "    #target이미지가 원본사진을 이탈하는것 방지\n",
    "    if yaverage<halfpicsize+10:\n",
    "        yaverage=halfpicsize+10\n",
    "    elif yaverage>len(image)-(halfpicsize+10):\n",
    "        yaverage=len(image)-(halfpicsize+10)\n",
    "\n",
    "    if xaverage<(halfpicsize+10):\n",
    "        xaverage=(halfpicsize+10)\n",
    "    elif xaverage>len(image[0])-(halfpicsize+10):\n",
    "        xaverage=len(image[0])-(halfpicsize+10)\n",
    "\n",
    "\n",
    "    #300*300 cutting    \n",
    "    cutimage=image_pil.crop((xaverage-halfpicsize,yaverage-halfpicsize,xaverage+halfpicsize,yaverage+halfpicsize))\n",
    "    #300*300=>50*50 resizing\n",
    "    resizedcutimage=np.array(cutimage.resize((50,50),Image.LANCZOS))\n",
    "    #3차원=>2차원\n",
    "    resizedcutimage=np.concatenate(resizedcutimage)\n",
    "    #2차원=>1차원\n",
    "    resizedcutimage=np.concatenate(resizedcutimage)\n",
    "\n",
    "    #target 데이터 저장\n",
    "    j=[]\n",
    "    j.append(resizedcutimage)\n",
    "    \n",
    "     \n",
    "    #300*300 target cutting기준\n",
    "    #K-neighbor모델을 위한 pca모델\n",
    "    pca31=joblib.load('./pca_component31.pkl')\n",
    "    \n",
    "    #target data 변환\n",
    "    #K-neighbor 전용\n",
    "    k=pca31.transform(j)\n",
    "    j=[]\n",
    "    \n",
    "   \n",
    "    \n",
    "    #모델 불러오기\n",
    "    loaded_kn15_model=joblib.load( './pca_knn_neighbor15.pkl')\n",
    "\n",
    "    #print(\"KN-15모델 예측\")\n",
    "    #print(loaded_kn15_model.predict(k))\n",
    "    #print(loaded_kn15_model.classes_)\n",
    "    #print(loaded_kn15_model.predict_proba(k))\n",
    "    \n",
    "    result=[]\n",
    "    \n",
    "    for i in range(5):\n",
    "        newdict={}\n",
    "        newdict[\"className\"]=loaded_kn15_model.classes_[i]\n",
    "        newdict[\"probability\"]=loaded_kn15_model.predict_proba(k)[0][i]\n",
    "        result.append(newdict)\n",
    "    return result\n",
    "    \n",
    "evaluate_grade(path)\n"
   ]
  }
 ],
 "metadata": {
  "kernelspec": {
   "display_name": "Python 3 (ipykernel)",
   "language": "python",
   "name": "python3"
  },
  "language_info": {
   "codemirror_mode": {
    "name": "ipython",
    "version": 3
   },
   "file_extension": ".py",
   "mimetype": "text/x-python",
   "name": "python",
   "nbconvert_exporter": "python",
   "pygments_lexer": "ipython3",
   "version": "3.9.7"
  }
 },
 "nbformat": 4,
 "nbformat_minor": 5
}
